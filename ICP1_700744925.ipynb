{
  "nbformat": 4,
  "nbformat_minor": 0,
  "metadata": {
    "colab": {
      "provenance": [],
      "authorship_tag": "ABX9TyOB2VNc7GjWzCh8RhLvLlBv",
      "include_colab_link": true
    },
    "kernelspec": {
      "name": "python3",
      "display_name": "Python 3"
    },
    "language_info": {
      "name": "python"
    }
  },
  "cells": [
    {
      "cell_type": "markdown",
      "metadata": {
        "id": "view-in-github",
        "colab_type": "text"
      },
      "source": [
        "<a href=\"https://colab.research.google.com/github/RoshanPoddaturi/Neural_Networks/blob/main/ICP1_700744925.ipynb\" target=\"_parent\"><img src=\"https://colab.research.google.com/assets/colab-badge.svg\" alt=\"Open In Colab\"/></a>"
      ]
    },
    {
      "cell_type": "code",
      "execution_count": 6,
      "metadata": {
        "colab": {
          "base_uri": "https://localhost:8080/"
        },
        "id": "jEyArbYi2TH2",
        "outputId": "f81ffc3b-f527-44f4-b7ff-b078da61147a"
      },
      "outputs": [
        {
          "output_type": "stream",
          "name": "stdout",
          "text": [
            "Enter the string 'Python': Python\n",
            "The resultant reversed string is: nhyP\n"
          ]
        }
      ],
      "source": [
        "# Input the string “Python” as a list of characters from console, delete at least 2 characters, reverse the resultant string and print it.\n",
        "\n",
        "input_string = list(input(\"Enter the string 'Python': \"))\n",
        "if input_string != list(\"Python\"):\n",
        "    print(\"Enter the string exactly as'Python'\")\n",
        "else:\n",
        "    del input_string[4]\n",
        "    del input_string[2]\n",
        "    input_string.reverse()\n",
        "    result_string = ''.join(input_string)\n",
        "    print(\"The resultant reversed string is:\", result_string)"
      ]
    },
    {
      "cell_type": "code",
      "source": [
        "# Write a program that accepts a sentence and replace each occurrence of ‘python’ with ‘pythons’.\n",
        "input_sentence = input(\"Enter a sentence: \")\n",
        "modified_sentence = input_sentence.replace('python', 'pythons')\n",
        "print(\"Modified sentence:\", modified_sentence)"
      ],
      "metadata": {
        "colab": {
          "base_uri": "https://localhost:8080/"
        },
        "id": "_2aSrXe93Oti",
        "outputId": "a111d12b-61c1-4651-daa2-36440bc15db2"
      },
      "execution_count": 7,
      "outputs": [
        {
          "output_type": "stream",
          "name": "stdout",
          "text": [
            "Enter a sentence: python\n",
            "Modified sentence: pythons\n"
          ]
        }
      ]
    },
    {
      "cell_type": "code",
      "source": [
        "# Use the if statement conditions to write a program to print the letter grade based on an input classscore. Use the grading scheme we are using in this class.\n",
        "cl_scr = int(input(\"Enter your class score: \"))\n",
        "if 90 <= cl_scr <= 100:\n",
        "\n",
        "    grade = 'A'\n",
        "elif 80 <= cl_scr < 90:\n",
        "    grade = 'B'\n",
        "elif 70 <= cl_scr < 80:\n",
        "    grade = 'C'\n",
        "elif 60 <= cl_scr < 70:\n",
        "    grade = 'D'\n",
        "elif 50 <= cl_scr < 60:\n",
        "    grade = 'F'\n",
        "else:\n",
        "    grade = 'Invalid score'\n",
        "print(\"The grade is:\", grade)"
      ],
      "metadata": {
        "colab": {
          "base_uri": "https://localhost:8080/"
        },
        "id": "bwvZQOR34kIL",
        "outputId": "5ed99beb-1944-4595-d0cd-754395737a76"
      },
      "execution_count": 10,
      "outputs": [
        {
          "output_type": "stream",
          "name": "stdout",
          "text": [
            "Enter your class score: 20\n",
            "The grade is: Invalid score\n"
          ]
        }
      ]
    }
  ]
}