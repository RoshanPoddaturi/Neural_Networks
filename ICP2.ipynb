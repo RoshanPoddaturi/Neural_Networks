{
  "nbformat": 4,
  "nbformat_minor": 0,
  "metadata": {
    "colab": {
      "provenance": [],
      "authorship_tag": "ABX9TyNALrvQr3LvYhFOKydW4y9+",
      "include_colab_link": true
    },
    "kernelspec": {
      "name": "python3",
      "display_name": "Python 3"
    },
    "language_info": {
      "name": "python"
    }
  },
  "cells": [
    {
      "cell_type": "markdown",
      "metadata": {
        "id": "view-in-github",
        "colab_type": "text"
      },
      "source": [
        "<a href=\"https://colab.research.google.com/github/RoshanPoddaturi/Neural_Networks/blob/main/ICP2.ipynb\" target=\"_parent\"><img src=\"https://colab.research.google.com/assets/colab-badge.svg\" alt=\"Open In Colab\"/></a>"
      ]
    },
    {
      "cell_type": "code",
      "execution_count": 30,
      "metadata": {
        "colab": {
          "base_uri": "https://localhost:8080/"
        },
        "id": "qZQ5_-KN7YEZ",
        "outputId": "d1a54227-a6c8-4f90-afef-3d2f5680784f"
      },
      "outputs": [
        {
          "output_type": "stream",
          "name": "stdout",
          "text": [
            "Enter your first name: sai \n",
            "Enter your last name: roshan\n",
            "Your full name is: sai  roshan\n",
            "Every other character in your full name is: si ohn\n"
          ]
        }
      ],
      "source": [
        "#Program1.\n",
        "def fullname(first_name, last_name):\n",
        "    full_name = first_name + \" \" + last_name\n",
        "    return full_name\n",
        "\n",
        "def string_alternative(full_name):\n",
        "    return full_name[::2]\n",
        "\n",
        "# Getting input from the user\n",
        "first_name = input(\"Enter your first name: \")\n",
        "last_name = input(\"Enter your last name: \")\n",
        "\n",
        "# Calling the fullname function to get the full name\n",
        "name = fullname(first_name, last_name)\n",
        "\n",
        "# Printing the full name\n",
        "print(\"Your full name is:\", name)\n",
        "\n",
        "# Getting every other character in the full name\n",
        "alternating_chars = string_alternative(name)\n",
        "print(\"Every other character in your full name is:\", alternating_chars)"
      ]
    },
    {
      "cell_type": "code",
      "source": [
        "file1 =open('/content/icp2.py','r')\n",
        "counts=dict()\n",
        "data = file1.read()\n",
        "words = data.split()\n",
        "for word in words:\n",
        "  if word in counts:\n",
        "    counts[word] +=1\n",
        "  else:\n",
        "    counts[word] = 1\n",
        "print(counts)\n",
        "\n",
        "f=open('output.txt','w')\n",
        "f.write(data)\n",
        "f.write(\"\\nword_count:\\n\")\n",
        "for key, value in counts.items():\n",
        "  f.write(f\"{key}:{value}\\n\")\n",
        "f.close()"
      ],
      "metadata": {
        "colab": {
          "base_uri": "https://localhost:8080/"
        },
        "id": "6uX-gvnv8akc",
        "outputId": "5844effb-4524-4b5c-c70d-67059cde6159"
      },
      "execution_count": 31,
      "outputs": [
        {
          "output_type": "stream",
          "name": "stdout",
          "text": [
            "{'Python': 1, 'Course': 2, 'Deep': 1, 'Learning': 1}\n"
          ]
        }
      ]
    },
    {
      "cell_type": "code",
      "source": [
        "def inches_to_cm(height_inches):\n",
        "    return height_inches * 2.54\n",
        "\n",
        "# Input list of heights in inches\n",
        "heights_inches = []\n",
        "num_customers = int(input(\"Enter the number of customers: \"))\n",
        "\n",
        "for i in range(num_customers):\n",
        "    height = float(input(f\"Enter height of customer {i+1} (in inches): \"))\n",
        "    heights_inches.append(height)\n",
        "\n",
        "# Using nested loop to convert heights to centimeters\n",
        "heights_cm_nested = []\n",
        "for height in heights_inches:\n",
        "    height_cm = inches_to_cm(height)\n",
        "    heights_cm_nested.append(round(height_cm, 2))\n",
        "\n",
        "# Print the original heights in inches\n",
        "print(\"Heights in inches:\", heights_inches)\n",
        "\n",
        "# Print the converted heights in centimeters\n",
        "print(\"Heights in centimeters (using nested loop):\", heights_cm_nested)"
      ],
      "metadata": {
        "colab": {
          "base_uri": "https://localhost:8080/"
        },
        "id": "RTq5-vwgfIHY",
        "outputId": "5aac7285-5915-4526-93e9-012fde0b60c5"
      },
      "execution_count": 32,
      "outputs": [
        {
          "output_type": "stream",
          "name": "stdout",
          "text": [
            "Enter the number of customers: 3\n",
            "Enter height of customer 1 (in inches): 170\n",
            "Enter height of customer 2 (in inches): 150\n",
            "Enter height of customer 3 (in inches): 160\n",
            "Heights in inches: [170.0, 150.0, 160.0]\n",
            "Heights in centimeters (using nested loop): [431.8, 381.0, 406.4]\n"
          ]
        }
      ]
    },
    {
      "cell_type": "code",
      "source": [
        "heights_inches = []\n",
        "num_customers = int(input(\"Enter the number of customers: \"))\n",
        "\n",
        "for i in range(num_customers):\n",
        "    height = float(input(f\"Enter height of customer {i+1} (in inches): \"))\n",
        "    heights_inches.append(height)\n",
        "\n",
        "# List comprehension to convert heights to centimeters\n",
        "heights_cm_comprehension = [round(inches_to_cm(height), 2) for height in heights_inches]\n",
        "\n",
        "# Print the original heights in inches\n",
        "print(\"Heights in inches:\", heights_inches)\n",
        "\n",
        "# Print the converted heights in centimeters\n",
        "print(\"Heights in centimeters (using list comprehension):\", heights_cm_comprehension)"
      ],
      "metadata": {
        "id": "pfd5OtMpk09E",
        "colab": {
          "base_uri": "https://localhost:8080/"
        },
        "outputId": "a52b5e4b-820c-4804-d64a-b0476507a3d4"
      },
      "execution_count": 33,
      "outputs": [
        {
          "output_type": "stream",
          "name": "stdout",
          "text": [
            "Enter the number of customers: 2\n",
            "Enter height of customer 1 (in inches): 120\n",
            "Enter height of customer 2 (in inches): 140\n",
            "Heights in inches: [120.0, 140.0]\n",
            "Heights in centimeters (using list comprehension): [304.8, 355.6]\n"
          ]
        }
      ]
    }
  ]
}